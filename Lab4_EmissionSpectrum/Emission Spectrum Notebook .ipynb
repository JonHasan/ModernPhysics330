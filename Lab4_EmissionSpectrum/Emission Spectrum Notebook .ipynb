{
 "cells": [
  {
   "cell_type": "markdown",
   "id": "fe25a466",
   "metadata": {},
   "source": [
    "# Emission Spectrum \n",
    "\n",
    "This notebook shows the calculations to determine the emission spectrum of hydrogen. \n",
    "\n",
    "These values are compared with the balmer series to see how many standard deviations from the mean the true value is. "
   ]
  },
  {
   "cell_type": "markdown",
   "id": "f5f97cc2",
   "metadata": {},
   "source": [
    "# Import libraries "
   ]
  },
  {
   "cell_type": "code",
   "execution_count": 2,
   "id": "8c59e4cc",
   "metadata": {},
   "outputs": [],
   "source": [
    "import numpy as np \n",
    "\n",
    "import matplotlib.pyplot as plt "
   ]
  },
  {
   "cell_type": "markdown",
   "id": "2946b7dd",
   "metadata": {},
   "source": [
    "# Define diffraction grating and its uncertainty "
   ]
  },
  {
   "cell_type": "code",
   "execution_count": 3,
   "id": "38fc0ada",
   "metadata": {},
   "outputs": [
    {
     "data": {
      "text/plain": [
       "0.015151515151515152"
      ]
     },
     "execution_count": 3,
     "metadata": {},
     "output_type": "execute_result"
    }
   ],
   "source": [
    "d = .0033/1000\n",
    "\n",
    "del_d = .00005/1000\n",
    "\n",
    "del_d/d"
   ]
  },
  {
   "cell_type": "markdown",
   "id": "e99d82ad",
   "metadata": {},
   "source": [
    "# Define wavelength equation and error propagation"
   ]
  },
  {
   "cell_type": "code",
   "execution_count": 4,
   "id": "328fb0cd",
   "metadata": {},
   "outputs": [],
   "source": [
    "def wavelength(theta, d):\n",
    "    wavelength = d*np.sin(theta)\n",
    "    return wavelength\n",
    "\n",
    "def uncertainty_wavelength(theta, del_theta, d, del_d):\n",
    "    return np.sqrt((d*np.cos(theta)* del_theta)**2 + (np.sin(theta) * del_d)**2)"
   ]
  },
  {
   "cell_type": "markdown",
   "id": "1aa32195",
   "metadata": {},
   "source": [
    "## Create arrays for wavelength \n",
    "\n",
    "Remember that np.sin and np.cos accept an angle in radians only. Convert the angle array into radians "
   ]
  },
  {
   "cell_type": "code",
   "execution_count": 5,
   "id": "67f7b20e",
   "metadata": {},
   "outputs": [],
   "source": [
    "blue = 95.1833\n",
    "\n",
    "aqua = 96.05\n",
    "\n",
    "yellow = 97.655\n",
    "\n",
    "red = 98.99\n",
    "\n",
    "ref = 87.75\n",
    "\n",
    "\n",
    "angle_array = np.array([blue - ref,aqua - ref, yellow - ref, red - ref]) * (np.pi/180)\n",
    "\n",
    "del_theta = .00014\n",
    "\n",
    "wavelength_array = wavelength(angle_array, d)\n",
    "\n",
    "uncertainty_wavelength = uncertainty_wavelength(angle_array, del_theta, d, del_d)\n",
    "\n"
   ]
  },
  {
   "cell_type": "code",
   "execution_count": 6,
   "id": "a05bfd9a",
   "metadata": {},
   "outputs": [
    {
     "data": {
      "text/plain": [
       "array([0.12973556, 0.14486233, 0.17287486, 0.19617501])"
      ]
     },
     "execution_count": 6,
     "metadata": {},
     "output_type": "execute_result"
    }
   ],
   "source": [
    "angle_array"
   ]
  },
  {
   "cell_type": "code",
   "execution_count": 7,
   "id": "246bbe54",
   "metadata": {},
   "outputs": [],
   "source": [
    "wavelength_array = wavelength_array * (1*10**9)\n",
    "\n",
    "uncertainty_wavelength = uncertainty_wavelength * (1*10**9)\n",
    "\n",
    "del_theta_array = np.ones(4)*del_theta"
   ]
  },
  {
   "cell_type": "code",
   "execution_count": 8,
   "id": "ca682601",
   "metadata": {},
   "outputs": [
    {
     "data": {
      "text/plain": [
       "array([427., 476., 568., 643.])"
      ]
     },
     "execution_count": 8,
     "metadata": {},
     "output_type": "execute_result"
    }
   ],
   "source": [
    "wavelength_array = np.round(wavelength_array)\n",
    "\n",
    "wavelength_array"
   ]
  },
  {
   "cell_type": "code",
   "execution_count": 9,
   "id": "12dfdeb0",
   "metadata": {},
   "outputs": [
    {
     "data": {
      "text/plain": [
       "array([ 6.,  7.,  9., 10.])"
      ]
     },
     "execution_count": 9,
     "metadata": {},
     "output_type": "execute_result"
    }
   ],
   "source": [
    "uncertainty_wavelength = np.round(uncertainty_wavelength)\n",
    "\n",
    "uncertainty_wavelength"
   ]
  },
  {
   "cell_type": "markdown",
   "id": "617cfba1",
   "metadata": {},
   "source": [
    "## Summarize the results \n",
    "\n",
    "Print out the wavelengths as well as uncertainties. Remember appropriate rules for error propagation"
   ]
  },
  {
   "cell_type": "code",
   "execution_count": 10,
   "id": "e283492f",
   "metadata": {},
   "outputs": [
    {
     "name": "stdout",
     "output_type": "stream",
     "text": [
      " The wavelength for blue is 427.0 +/- 6.0 nm\n",
      " The wavelength for aqua is 476.0 +/- 7.0 nm\n",
      " The wavelength for yellow is 568.0 +/- 9.0 nm\n",
      " The wavelength for red is 643.0 +/- 10.0 nm\n"
     ]
    }
   ],
   "source": [
    "color = [\"blue\", \"aqua\", \"yellow\", \"red\"]\n",
    "count = 0\n",
    "for wave, unc in zip(wavelength_array, uncertainty_wavelength):\n",
    "    print(\" The wavelength for \" +  color[count] + \" is \" + str(np.round(wave)) + \" +/- \" +  str(np.round(unc)) + \" nm\")\n",
    "    \n",
    "    count += 1"
   ]
  },
  {
   "cell_type": "markdown",
   "id": "68a5a5be",
   "metadata": {},
   "source": [
    "## Plot the results \n",
    "\n",
    "Here the experimental results and error bars are plotted "
   ]
  },
  {
   "cell_type": "code",
   "execution_count": 26,
   "id": "a58bf6fb",
   "metadata": {},
   "outputs": [
    {
     "data": {
      "image/png": "[encoded data removed]",
      "text/plain": [
       "<Figure size 432x288 with 1 Axes>"
      ]
     },
     "metadata": {
      "needs_background": "light"
     },
     "output_type": "display_data"
    }
   ],
   "source": [
    "plt.figure()\n",
    "\n",
    "plt.scatter(angle_array * (180/np.pi), wavelength_array)\n",
    "\n",
    "plt.errorbar(angle_array * (180/np.pi),  wavelength_array, xerr = del_theta_array * (180/np.pi), yerr = uncertainty_wavelength, ls = 'none')\n",
    "\n",
    "plt.xlabel(r\"$\\theta$\" + \"(\\N{DEGREE SIGN})\")\n",
    "\n",
    "plt.ylabel(r\"$\\lambda$\" + \"(nm)\")\n",
    "\n",
    "plt.title(\"Emission spectrum wavelengths of Hydrogen\")\n",
    "\n",
    "plt.savefig(\"ExperimentalWavelength.png\")"
   ]
  },
  {
   "cell_type": "markdown",
   "id": "e54d8375",
   "metadata": {},
   "source": [
    "# Compare with true values \n",
    "\n",
    "Need to graphically see how much discrepancy there is between experimental and true values \n",
    "\n",
    "Need accepted values for wavelengths of emission spectra for hydrogen \n",
    "\n",
    "This is the balmer series for emission lines and can be found at \n",
    "\n",
    "https://en.wikipedia.org/wiki/Balmer_series#:~:text=The%20visible%20spectrum%20of%20light,quantum%20number%20n%20equals%202."
   ]
  },
  {
   "cell_type": "code",
   "execution_count": 13,
   "id": "aeee0015",
   "metadata": {},
   "outputs": [],
   "source": [
    "####################################\n",
    "#### True values for Balmer Series##\n",
    "####################################\n",
    "\n",
    "# Wavelengths are in nm \n",
    "\n",
    "blue = 434.04\n",
    "\n",
    "aqua= 474.04\n",
    "\n",
    "yellow = 580\n",
    "\n",
    "red = 656.27\n",
    "\n",
    "accepted = np.array([blue, aqua, yellow, red])\n",
    "\n",
    "\n",
    "#Solve for theta in the accepted array. arcsin requires specific arguments\n",
    "\n",
    "accepted2 = np.array([blue, aqua, yellow, red])/(1*10**9)\n",
    "\n",
    "angle_true = np.arcsin(accepted2/d)\n",
    "\n"
   ]
  },
  {
   "cell_type": "code",
   "execution_count": 25,
   "id": "ea737b5e",
   "metadata": {},
   "outputs": [
    {
     "data": {
      "image/png": "[encoded data removed]",
      "text/plain": [
       "<Figure size 432x288 with 1 Axes>"
      ]
     },
     "metadata": {
      "needs_background": "light"
     },
     "output_type": "display_data"
    }
   ],
   "source": [
    "plt.figure()\n",
    "\n",
    "plt.scatter(angle_array * (180/np.pi), wavelength_array)\n",
    "\n",
    "plt.errorbar(angle_array * (180/np.pi),  wavelength_array, xerr = del_theta_array * (180/np.pi), yerr = uncertainty_wavelength, ls = 'none')\n",
    "\n",
    "plt.scatter(angle_true * (180/np.pi), accepted)\n",
    "\n",
    "plt.xlabel(r\"$\\theta$\" + \"(\\N{DEGREE SIGN})\")\n",
    "\n",
    "plt.ylabel(r\"$\\lambda$\" + \"(nm)\")\n",
    "\n",
    "plt.title(\"Emission spectrum wavelengths of Hydrogen\")\n",
    "\n",
    "plt.legend([\"experimental\", \"true\"])\n",
    "\n",
    "plt.savefig(\"ExperimentalVsTrueWavelength.png\")"
   ]
  },
  {
   "cell_type": "markdown",
   "id": "e3eecf54",
   "metadata": {},
   "source": [
    "# Discrepancies and standard deviations "
   ]
  },
  {
   "cell_type": "markdown",
   "id": "c575c5d2",
   "metadata": {},
   "source": [
    "Need to see how experimental values differ from true values in terms of standard deviations.\n"
   ]
  },
  {
   "cell_type": "code",
   "execution_count": 31,
   "id": "93122c4c",
   "metadata": {},
   "outputs": [
    {
     "data": {
      "text/plain": [
       "array([ 7.04,  1.96, 12.  , 13.27])"
      ]
     },
     "execution_count": 31,
     "metadata": {},
     "output_type": "execute_result"
    }
   ],
   "source": [
    "discrepancy = np.abs(wavelength_array - accepted)\n",
    "\n",
    "discrepancy"
   ]
  },
  {
   "cell_type": "code",
   "execution_count": 32,
   "id": "8094627c",
   "metadata": {},
   "outputs": [
    {
     "data": {
      "text/plain": [
       "array([1.17333333, 0.28      , 1.33333333, 1.327     ])"
      ]
     },
     "execution_count": 32,
     "metadata": {},
     "output_type": "execute_result"
    }
   ],
   "source": [
    "std_from_mean = discrepancy/uncertainty_wavelength\n",
    "std_from_mean"
   ]
  },
  {
   "cell_type": "markdown",
   "id": "f6efb0e1",
   "metadata": {},
   "source": [
    "All measurements are within two standard deviations of the mean. It seems like some colors were misidentified. Violet was really blue and blue was really aqua. This explains why initially the first two wavelengths seemed so different. They were incorrectly classified. "
   ]
  }
 ],
 "metadata": {
  "kernelspec": {
   "display_name": "Python 3 (ipykernel)",
   "language": "python",
   "name": "python3"
  },
  "language_info": {
   "codemirror_mode": {
    "name": "ipython",
    "version": 3
   },
   "file_extension": ".py",
   "mimetype": "text/x-python",
   "name": "python",
   "nbconvert_exporter": "python",
   "pygments_lexer": "ipython3",
   "version": "3.8.12"
  }
 },
 "nbformat": 4,
 "nbformat_minor": 5
}
