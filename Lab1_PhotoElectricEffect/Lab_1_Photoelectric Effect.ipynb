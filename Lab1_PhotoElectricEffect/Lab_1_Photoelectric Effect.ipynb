{
 "cells": [
  {
   "cell_type": "markdown",
   "id": "f4992317",
   "metadata": {},
   "source": [
    "# Lab 1 Photoelectric effect \n",
    "\n",
    "Author: Jonathan Hasan , Jude Riley\n",
    "\n",
    "Class: Modern Physics 330 \n",
    "\n",
    "Date: 2/8/2022\n",
    "\n",
    "Purpose: \n",
    "\n",
    "Try to validate the quantum theory of light found by max plank and expanded upon by Einstein!\n",
    "\n",
    "Strategy: \n",
    "\n",
    "Using wavelength data, calculate frequencies and plot stopping voltage versus those frequencies. Determine if the \n",
    "quantum theory of light holds up to scrutiny. \n",
    "\n"
   ]
  },
  {
   "cell_type": "markdown",
   "id": "5988b01f",
   "metadata": {},
   "source": [
    "# 1. Import Libraries"
   ]
  },
  {
   "cell_type": "code",
   "execution_count": 34,
   "id": "9bb6ae4c",
   "metadata": {},
   "outputs": [],
   "source": [
    "#Import necessary libraries \n",
    "\n",
    "import numpy as np\n",
    "\n",
    "import matplotlib.pyplot as plt \n",
    "\n",
    "import math \n",
    "\n",
    "from scipy import odr\n",
    "\n",
    "%matplotlib notebook"
   ]
  },
  {
   "cell_type": "markdown",
   "id": "722e6dd2",
   "metadata": {},
   "source": [
    "##  1.1 Helper functions\n",
    "\n",
    "Use these functions to multiply and divide uncertanties "
   ]
  },
  {
   "cell_type": "code",
   "execution_count": 35,
   "id": "5b492f4e",
   "metadata": {},
   "outputs": [],
   "source": [
    "def multiply_uncertainties(a, del_a, b, del_b):\n",
    "    q = a*b\n",
    "    \n",
    "    del_q = q * ((del_a/a)+(del_b/b))\n",
    "    \n",
    "    return q, del_q \n",
    "    "
   ]
  },
  {
   "cell_type": "code",
   "execution_count": 36,
   "id": "5647ff2d",
   "metadata": {},
   "outputs": [],
   "source": [
    "def divide_uncertainties(a, del_a, b, del_b): \n",
    "    q = a/b\n",
    "    \n",
    "    del_q = q * ((del_a/a)+(del_b/b))\n",
    "    \n",
    "    return q, del_q "
   ]
  },
  {
   "cell_type": "markdown",
   "id": "53d4cba4",
   "metadata": {},
   "source": [
    "# 2. Calculate mean and uncertainties of Voltages\n",
    "\n",
    "Each of the four colors has 5 data points associated with it. Need to find the mean and the standard deviation of each one. Using one standard deviation means I am 68% confident that my answer lies in this range. \n",
    "\n",
    "However, there are some other issues which will be discussed down the line. \n",
    "\n",
    "This section will apply mean and standard deviation operations with ddof = 1 for all voltage data including the intensity modified ones. "
   ]
  },
  {
   "cell_type": "code",
   "execution_count": 37,
   "id": "4b92fe12",
   "metadata": {},
   "outputs": [],
   "source": [
    "#Instantiate voltage arrays for all colors\n",
    "\n",
    "purple_voltage = np.array([1.56, 1.56, 1.56, 1.56, 1.56])\n",
    "\n",
    "blue_voltage = np.array([1.90, 1.90, 1.90, 1.90, 1.90])\n",
    "\n",
    "green_voltage = np.array([.944, .944, .944, .944, .944])\n",
    "\n",
    "yellow_voltage = np.array([.802, .802, .802, .802, .802])\n",
    "\n",
    "\n"
   ]
  },
  {
   "cell_type": "code",
   "execution_count": 38,
   "id": "78bf4e73",
   "metadata": {},
   "outputs": [],
   "source": [
    "#Generate mean of each data array \n",
    "\n",
    "purp_mean = np.mean(purple_voltage)\n",
    "\n",
    "blue_mean = np.mean(blue_voltage)\n",
    "\n",
    "green_mean = np.mean(green_voltage)\n",
    "\n",
    "yellow_mean = np.mean(yellow_voltage)\n",
    "\n",
    "# Find the standard deviation of data. Make sure to use ddof = 1 for sample\n",
    "purp_std = np.std(purple_voltage, ddof = 1)\n",
    "\n",
    "blue_std = np.std(blue_voltage, ddof = 1)\n",
    "\n",
    "green_std = np.std(green_voltage, ddof = 1)\n",
    "\n",
    "yellow_std = np.std(yellow_voltage, ddof = 1)"
   ]
  },
  {
   "cell_type": "code",
   "execution_count": 39,
   "id": "6efe4e69",
   "metadata": {},
   "outputs": [],
   "source": [
    "#Summarize results\n",
    "\n",
    "purp = F\"Purple voltage - {purp_mean} +- {purp_std} V\"\n",
    "\n",
    "blue = F\"Blue voltage - {blue_mean} +- {blue_std} V\"\n",
    "\n",
    "green = F\"green voltage - {green_mean} +- {green_std} V\"\n",
    "\n",
    "yellow = F\"yellow voltage - {yellow_mean} +- {yellow_std} V\""
   ]
  },
  {
   "cell_type": "code",
   "execution_count": 40,
   "id": "f6eee6e3",
   "metadata": {},
   "outputs": [
    {
     "data": {
      "text/plain": [
       "'yellow voltage - 0.8019999999999999 +- 1.2412670766236366e-16 V'"
      ]
     },
     "execution_count": 40,
     "metadata": {},
     "output_type": "execute_result"
    }
   ],
   "source": [
    "purp\n",
    "\n",
    "blue\n",
    "\n",
    "green\n",
    "\n",
    "yellow"
   ]
  },
  {
   "cell_type": "code",
   "execution_count": 41,
   "id": "6debcf30",
   "metadata": {},
   "outputs": [
    {
     "data": {
      "text/plain": [
       "' Voltages: Purple voltage - 1.56 +- 0.0 V Blue voltage - 1.9 +- 0.0 V green voltage - 0.944 +- 0.0 V yellow voltage - 0.8019999999999999 +- 1.2412670766236366e-16 V'"
      ]
     },
     "execution_count": 41,
     "metadata": {},
     "output_type": "execute_result"
    }
   ],
   "source": [
    "F\" Voltages: {purp} {blue} {green} {yellow}\""
   ]
  },
  {
   "cell_type": "markdown",
   "id": "1b735e7a",
   "metadata": {},
   "source": [
    "## 2.1 Assemble final voltage best estimate and uncertainty data for base colors\n",
    "\n",
    "Take true estimates and place in array and transform the std into a standard error. "
   ]
  },
  {
   "cell_type": "code",
   "execution_count": 42,
   "id": "e114d40b",
   "metadata": {},
   "outputs": [],
   "source": [
    "# create voltage array \n",
    "\n",
    "vol_data = np.array([purp_mean, blue_mean, green_mean, yellow_mean])\n",
    "\n",
    "# Create standard error from standard deviation \n",
    "\n",
    "std = np.array([purp_std, blue_std, green_std, yellow_std])\n",
    "\n",
    "unc_voltage = [std/np.sqrt(5) for std in std]"
   ]
  },
  {
   "cell_type": "code",
   "execution_count": 43,
   "id": "40380a23",
   "metadata": {},
   "outputs": [
    {
     "data": {
      "text/plain": [
       "array([1.56 , 1.9  , 0.944, 0.802])"
      ]
     },
     "execution_count": 43,
     "metadata": {},
     "output_type": "execute_result"
    }
   ],
   "source": [
    "vol_data"
   ]
  },
  {
   "cell_type": "code",
   "execution_count": 44,
   "id": "ae39450c",
   "metadata": {},
   "outputs": [
    {
     "data": {
      "text/plain": [
       "[0.0, 0.0, 0.0, 5.551115123125783e-17]"
      ]
     },
     "execution_count": 44,
     "metadata": {},
     "output_type": "execute_result"
    }
   ],
   "source": [
    "unc_voltage"
   ]
  },
  {
   "cell_type": "markdown",
   "id": "5cfa759e",
   "metadata": {},
   "source": [
    "Data shows that there is virtually no deviation from the result. However, there is still uncertainty from the voltmeter itself which is .0005 V. This means that the uncertainty must be that value. "
   ]
  },
  {
   "cell_type": "code",
   "execution_count": 45,
   "id": "5883bb82",
   "metadata": {},
   "outputs": [
    {
     "data": {
      "text/plain": [
       "array([0.005, 0.005, 0.005, 0.005])"
      ]
     },
     "execution_count": 45,
     "metadata": {},
     "output_type": "execute_result"
    }
   ],
   "source": [
    "unc_voltage = np.ones(4) * .005\n",
    "\n",
    "unc_voltage"
   ]
  },
  {
   "cell_type": "markdown",
   "id": "ce7d22a2",
   "metadata": {},
   "source": [
    " ## 2.2 Calculate Voltage best estimate and uncertainty values for intensity 60% for yellow and green \n",
    " \n",
    " Now do the same calculations for the green and yellow light with intensity filters "
   ]
  },
  {
   "cell_type": "code",
   "execution_count": 93,
   "id": "10e511dc",
   "metadata": {},
   "outputs": [],
   "source": [
    "green_60 = np.array([.947, .947, .947, .947, .947])\n",
    "\n",
    "yellow_60 = np.array([.803, .803, .803, .803, .803])"
   ]
  },
  {
   "cell_type": "code",
   "execution_count": 94,
   "id": "f7c6f243",
   "metadata": {},
   "outputs": [],
   "source": [
    "green_60_mean = np.mean(green_60) \n",
    "\n",
    "yellow_60_mean = np.mean(yellow_60 )\n",
    "\n",
    "green_60_std = np.std(green_60, ddof = 1)\n",
    "\n",
    "yellow_60_std = np.std(yellow_60, ddof = 1)"
   ]
  },
  {
   "cell_type": "code",
   "execution_count": 95,
   "id": "a77eea9a",
   "metadata": {},
   "outputs": [],
   "source": [
    "green_60_sum = F\" green 60% intensity value is {green_60_mean:.3f} +- {green_60_std:.3f}\"\n",
    "\n",
    "yellow_60_sum = F\" yellow  60% intensity value is {yellow_60_mean:.3f} +- {yellow_60_std:.3f}\""
   ]
  },
  {
   "cell_type": "code",
   "execution_count": 96,
   "id": "a5c49f73",
   "metadata": {},
   "outputs": [
    {
     "data": {
      "text/plain": [
       "' green 60% intensity value is 0.947 +- 0.000'"
      ]
     },
     "execution_count": 96,
     "metadata": {},
     "output_type": "execute_result"
    }
   ],
   "source": [
    "green_60_sum"
   ]
  },
  {
   "cell_type": "code",
   "execution_count": 50,
   "id": "0990abb0",
   "metadata": {},
   "outputs": [
    {
     "data": {
      "text/plain": [
       "' yellow  60% intensity value is 0.803 +- 0.000'"
      ]
     },
     "execution_count": 50,
     "metadata": {},
     "output_type": "execute_result"
    }
   ],
   "source": [
    "yellow_60_sum"
   ]
  },
  {
   "cell_type": "markdown",
   "id": "2f07c22a",
   "metadata": {},
   "source": [
    "These uncertainties are extremely small. However, there is still uncertainty from the volt meter and this must be the uncertainty used by the ODR"
   ]
  },
  {
   "cell_type": "code",
   "execution_count": 51,
   "id": "6da429cb",
   "metadata": {},
   "outputs": [],
   "source": [
    "vol_60 = np.array([green_60_mean, yellow_60_mean])\n",
    "\n",
    "vol_60_unc = np.array([.0005, .0005])"
   ]
  },
  {
   "cell_type": "markdown",
   "id": "77be4eac",
   "metadata": {},
   "source": [
    "# 3. Calculate wavelengths from diffraction equation "
   ]
  },
  {
   "cell_type": "code",
   "execution_count": 52,
   "id": "c269f5c9",
   "metadata": {},
   "outputs": [
    {
     "data": {
      "text/plain": [
       "array([0.26179939, 0.2268928 , 0.34906585, 0.36826447])"
      ]
     },
     "execution_count": 52,
     "metadata": {},
     "output_type": "execute_result"
    }
   ],
   "source": [
    "#d is 1/600 mm which transforms into 1/600000 m \n",
    "\n",
    "d = 1/600000\n",
    "\n",
    "#Uncertainty to high. Professor recommended 5%, originally at 30%\n",
    "d_del = d*.05\n",
    "\n",
    "angle = np.array([15, 13, 20, 21.1 ]) * (np.pi/float(180))\n",
    "\n",
    "del_angle = np.radians(.5)\n",
    "\n",
    "angle\n"
   ]
  },
  {
   "cell_type": "code",
   "execution_count": null,
   "id": "1f9f4abc",
   "metadata": {},
   "outputs": [],
   "source": []
  },
  {
   "cell_type": "code",
   "execution_count": 53,
   "id": "e5792383",
   "metadata": {},
   "outputs": [
    {
     "data": {
      "text/plain": [
       "[0.25881904510252074,\n",
       " 0.224951054343865,\n",
       " 0.3420201433256687,\n",
       " 0.35999680812005125]"
      ]
     },
     "execution_count": 53,
     "metadata": {},
     "output_type": "execute_result"
    }
   ],
   "source": [
    "angle_radians_sin = [np.sin(angle) for angle in angle]\n",
    "\n",
    "angle_radians_cos = [np.cos(angle) for angle in angle]\n",
    "\n",
    "angle_radians_sin"
   ]
  },
  {
   "cell_type": "code",
   "execution_count": 54,
   "id": "b267c7f4",
   "metadata": {},
   "outputs": [
    {
     "data": {
      "text/plain": [
       "4.313650751708679e-07"
      ]
     },
     "execution_count": 54,
     "metadata": {},
     "output_type": "execute_result"
    }
   ],
   "source": [
    "d * angle_radians_sin[0]"
   ]
  },
  {
   "cell_type": "code",
   "execution_count": 55,
   "id": "a689b7b1",
   "metadata": {},
   "outputs": [],
   "source": [
    "wavelength_purp = d * angle_radians_sin[0]\n",
    "\n",
    "wavelength_blue = d * angle_radians_sin[1]\n",
    "\n",
    "wavelength_green = d * angle_radians_sin[2]\n",
    "\n",
    "wavelength_yellow = d * angle_radians_sin[3]"
   ]
  },
  {
   "cell_type": "markdown",
   "id": "7293f77b",
   "metadata": {},
   "source": [
    "### 3.1 Calculate the uncertainty in the wave length\n",
    "\n",
    "Use equation in OSF to calculate the Uncertainty on wavelengths. \n",
    "\n",
    "Remember to use radians. There was a mistake I made where del_angle was in degrees. "
   ]
  },
  {
   "cell_type": "code",
   "execution_count": 56,
   "id": "37377cff",
   "metadata": {},
   "outputs": [],
   "source": [
    "def uncertainty_wavelength(d, d_del, cosine_angle, sin_angle, del_angle):\n",
    "    return np.sqrt(((d * cosine_angle * del_angle)**2 + (sin_angle * d_del)**2))"
   ]
  },
  {
   "cell_type": "code",
   "execution_count": 57,
   "id": "feb6818c",
   "metadata": {},
   "outputs": [],
   "source": [
    "uncertainty_wavelength_purp = uncertainty_wavelength(d, d_del, angle_radians_cos[0], angle_radians_sin[0], del_angle)\n",
    "\n",
    "uncertainty_wavelength_blue = uncertainty_wavelength(d, d_del, angle_radians_cos[1], angle_radians_sin[1], del_angle)\n",
    "\n",
    "uncertainty_wavelength_green = uncertainty_wavelength(d, d_del, angle_radians_cos[2], angle_radians_sin[2], del_angle)\n",
    "\n",
    "uncertainty_wavelength_yellow = uncertainty_wavelength(d, d_del, angle_radians_cos[3], angle_radians_sin[3], del_angle)\n"
   ]
  },
  {
   "cell_type": "markdown",
   "id": "75599b3c",
   "metadata": {},
   "source": [
    "# 3.3 Show the wavelength results for each color \n",
    "\n",
    "Now that the calculations are complete print out the results "
   ]
  },
  {
   "cell_type": "markdown",
   "id": "eb19c187",
   "metadata": {},
   "source": [
    "### Purple wavelength "
   ]
  },
  {
   "cell_type": "code",
   "execution_count": 58,
   "id": "4356b606",
   "metadata": {},
   "outputs": [
    {
     "data": {
      "text/plain": [
       "4.313650751708679e-07"
      ]
     },
     "execution_count": 58,
     "metadata": {},
     "output_type": "execute_result"
    }
   ],
   "source": [
    "wav_purp = wavelength_purp\n",
    "\n",
    "wav_purp"
   ]
  },
  {
   "cell_type": "code",
   "execution_count": 59,
   "id": "6a4901e4",
   "metadata": {},
   "outputs": [
    {
     "data": {
      "text/plain": [
       "2.5740220674780875e-08"
      ]
     },
     "execution_count": 59,
     "metadata": {},
     "output_type": "execute_result"
    }
   ],
   "source": [
    "unc_purp = uncertainty_wavelength_purp\n",
    "\n",
    "unc_purp"
   ]
  },
  {
   "cell_type": "markdown",
   "id": "4d4c24c3",
   "metadata": {},
   "source": [
    "### Blue Wavelength"
   ]
  },
  {
   "cell_type": "code",
   "execution_count": 60,
   "id": "68125045",
   "metadata": {},
   "outputs": [
    {
     "data": {
      "text/plain": [
       "3.749184239064417e-07"
      ]
     },
     "execution_count": 60,
     "metadata": {},
     "output_type": "execute_result"
    }
   ],
   "source": [
    "wav_blue = wavelength_blue\n",
    "\n",
    "wav_blue"
   ]
  },
  {
   "cell_type": "code",
   "execution_count": 61,
   "id": "dca034fc",
   "metadata": {},
   "outputs": [
    {
     "data": {
      "text/plain": [
       "2.3499891253430025e-08"
      ]
     },
     "execution_count": 61,
     "metadata": {},
     "output_type": "execute_result"
    }
   ],
   "source": [
    "unc_blue = uncertainty_wavelength_blue\n",
    "\n",
    "unc_blue"
   ]
  },
  {
   "cell_type": "markdown",
   "id": "4f7ec022",
   "metadata": {},
   "source": [
    "### Green Wavelength"
   ]
  },
  {
   "cell_type": "code",
   "execution_count": 62,
   "id": "b8e1fe93",
   "metadata": {},
   "outputs": [
    {
     "data": {
      "text/plain": [
       "5.700335722094478e-07"
      ]
     },
     "execution_count": 62,
     "metadata": {},
     "output_type": "execute_result"
    }
   ],
   "source": [
    "wav_green = wavelength_green\n",
    "\n",
    "wav_green"
   ]
  },
  {
   "cell_type": "code",
   "execution_count": 63,
   "id": "a19c1af1",
   "metadata": {},
   "outputs": [
    {
     "data": {
      "text/plain": [
       "3.1609177367574496e-08"
      ]
     },
     "execution_count": 63,
     "metadata": {},
     "output_type": "execute_result"
    }
   ],
   "source": [
    "unc_green = uncertainty_wavelength_green\n",
    "\n",
    "unc_green"
   ]
  },
  {
   "cell_type": "markdown",
   "id": "f6ad6bac",
   "metadata": {},
   "source": [
    "### Yellow wavelength"
   ]
  },
  {
   "cell_type": "code",
   "execution_count": 64,
   "id": "f4fce045",
   "metadata": {},
   "outputs": [
    {
     "data": {
      "text/plain": [
       "5.999946802000854e-07"
      ]
     },
     "execution_count": 64,
     "metadata": {},
     "output_type": "execute_result"
    }
   ],
   "source": [
    "wav_yellow = wavelength_yellow\n",
    "\n",
    "wav_yellow"
   ]
  },
  {
   "cell_type": "code",
   "execution_count": 65,
   "id": "33216161",
   "metadata": {},
   "outputs": [
    {
     "data": {
      "text/plain": [
       "3.292580802183974e-08"
      ]
     },
     "execution_count": 65,
     "metadata": {},
     "output_type": "execute_result"
    }
   ],
   "source": [
    "unc_yellow = uncertainty_wavelength_yellow\n",
    "\n",
    "unc_yellow"
   ]
  },
  {
   "cell_type": "markdown",
   "id": "bb8fa77e",
   "metadata": {},
   "source": [
    "# 4. Finalize data to transform to frequency measurements\n",
    "\n",
    "Use the equation $\\lambda = c/\\nu$ to calculate the frequency of the light "
   ]
  },
  {
   "cell_type": "code",
   "execution_count": 66,
   "id": "3d11885c",
   "metadata": {},
   "outputs": [],
   "source": [
    "#Create Data arrays with wavelength best estimate and uncertainty data\n",
    "\n",
    "wav_data = np.array([wav_purp, wav_blue, wav_green, wav_yellow])\n",
    "\n",
    "unc_wav = np.array([unc_purp, unc_blue, unc_green, unc_yellow])\n",
    "\n"
   ]
  },
  {
   "cell_type": "code",
   "execution_count": 67,
   "id": "e4bd3fdc",
   "metadata": {},
   "outputs": [
    {
     "data": {
      "text/plain": [
       "array([4.31365075e-07, 3.74918424e-07, 5.70033572e-07, 5.99994680e-07])"
      ]
     },
     "execution_count": 67,
     "metadata": {},
     "output_type": "execute_result"
    }
   ],
   "source": [
    "wav_data"
   ]
  },
  {
   "cell_type": "code",
   "execution_count": 68,
   "id": "b2e3ace2",
   "metadata": {},
   "outputs": [
    {
     "data": {
      "text/plain": [
       "array([2.57402207e-08, 2.34998913e-08, 3.16091774e-08, 3.29258080e-08])"
      ]
     },
     "execution_count": 68,
     "metadata": {},
     "output_type": "execute_result"
    }
   ],
   "source": [
    "unc_wav"
   ]
  },
  {
   "cell_type": "code",
   "execution_count": 275,
   "id": "7726cb61",
   "metadata": {},
   "outputs": [
    {
     "data": {
      "text/plain": [
       "' Frequency Best estimates are: [4.31365075e-07 3.74918424e-07 5.70033572e-07 5.99994680e-07] m and the uncertanties are: [2.57402207e-08 2.34998913e-08 3.16091774e-08 3.29258080e-08] m'"
      ]
     },
     "execution_count": 275,
     "metadata": {},
     "output_type": "execute_result"
    }
   ],
   "source": [
    "F\" Frequency Best estimates are: {wav_data} m and the uncertanties are: {unc_wav} m\""
   ]
  },
  {
   "cell_type": "code",
   "execution_count": 70,
   "id": "e8c14859",
   "metadata": {},
   "outputs": [],
   "source": [
    "#Modify wav data into freq data through lambda = c/v. Put it in PHz\n",
    "\n",
    "# propagate errors with divide_uncertainties \n",
    "\n",
    "freq_data, freq_unc = divide_uncertainties(3*10**8, 0, wav_data, unc_wav) \n",
    "\n",
    "freq_data, freq_unc = divide_uncertainties(freq_data, freq_unc, 1*10**15, 0)\n",
    "\n",
    "\n",
    "#Take last two for freq data for 60% uncertainty \n",
    "freq_data_60 = freq_data[2:]\n",
    "\n",
    "freq_unc_60 = freq_unc[2:]"
   ]
  },
  {
   "cell_type": "code",
   "execution_count": 71,
   "id": "c8808b3e",
   "metadata": {},
   "outputs": [
    {
     "data": {
      "text/plain": [
       "' Frequency Best estimates are: [0.69546659 0.80017407 0.52628479 0.50000443] m and the uncertanties are: [0.04149957 0.05015492 0.02918324 0.02743866] m'"
      ]
     },
     "execution_count": 71,
     "metadata": {},
     "output_type": "execute_result"
    }
   ],
   "source": [
    "F\" Frequency Best estimates are: {freq_data} m and the uncertanties are: {freq_unc} m\""
   ]
  },
  {
   "cell_type": "markdown",
   "id": "68d776a8",
   "metadata": {},
   "source": [
    "# 5. ODR data fitting for Wavelengths\n",
    "\n",
    "Need to fit OCR Data. Photoelectric graph plots KE vs frequency. Utilize averaged results and calculated uncertainties to generate graph for greatest accuracy "
   ]
  },
  {
   "cell_type": "code",
   "execution_count": 72,
   "id": "d8fb23cc",
   "metadata": {},
   "outputs": [],
   "source": [
    "def f(B,x):\n",
    "    \n",
    "    '''Linear function '''\n",
    "    ''' This is the model that is believed to accurately predict the data'''\n",
    "    '''B[0] is the slope and B[1] is the intercept'''\n",
    "    \n",
    "    return B[0]*x + B[1]"
   ]
  },
  {
   "cell_type": "code",
   "execution_count": 73,
   "id": "c1ce0b1c",
   "metadata": {},
   "outputs": [],
   "source": [
    "linear = odr.Model(f)"
   ]
  },
  {
   "cell_type": "code",
   "execution_count": 74,
   "id": "2cc05fc1",
   "metadata": {},
   "outputs": [],
   "source": [
    "sx = [freq * np.sqrt(5) for freq in freq_unc]\n",
    "\n",
    "sy = [voltage * np.sqrt(5) for voltage in unc_voltage]\n",
    "\n",
    "mydata = odr.RealData(freq_data, vol_data, sx = sx, sy = sy )"
   ]
  },
  {
   "cell_type": "code",
   "execution_count": 75,
   "id": "4bd93425",
   "metadata": {},
   "outputs": [],
   "source": [
    "myodr = odr.ODR(mydata, linear, beta0=[4, -1]) "
   ]
  },
  {
   "cell_type": "code",
   "execution_count": 76,
   "id": "426da8b6",
   "metadata": {},
   "outputs": [],
   "source": [
    "myoutput = myodr.run()"
   ]
  },
  {
   "cell_type": "code",
   "execution_count": 77,
   "id": "e676973c",
   "metadata": {},
   "outputs": [
    {
     "name": "stdout",
     "output_type": "stream",
     "text": [
      "Beta: [ 3.67854321 -1.01619908]\n",
      "Beta Std Error: [0.15082663 0.08829569]\n",
      "Beta Covariance: [[ 1.75016682 -1.00779635]\n",
      " [-1.00779635  0.59979441]]\n",
      "Residual Variance: 0.012998002137590114\n",
      "Inverse Condition #: 0.07110561510620794\n",
      "Reason(s) for Halting:\n",
      "  Sum of squares convergence\n"
     ]
    }
   ],
   "source": [
    "myoutput.pprint()"
   ]
  },
  {
   "cell_type": "markdown",
   "id": "2926b292",
   "metadata": {},
   "source": [
    "So it looks like the formula is: \n",
    "\n",
    "y = 3.67 x - 1.01\n",
    "\n",
    "Std error for the linear fit is .15 for slope and .088 for intercept "
   ]
  },
  {
   "cell_type": "markdown",
   "id": "1569e5c3",
   "metadata": {},
   "source": [
    "## 5.1 Plot the best fit trend line data\n",
    "\n",
    "All the necessary information can be accessed through attributes. Just use .notation. \n",
    "\n",
    "Example \n",
    "\n",
    "my_output.beta[0] accesses the slope value for the trend line \n",
    "\n",
    "my_output.sd_beta[0] accesses error associated with slope "
   ]
  },
  {
   "cell_type": "code",
   "execution_count": 78,
   "id": "a017a127",
   "metadata": {},
   "outputs": [],
   "source": [
    "#Setup the variables to use \n",
    "\n",
    "B_0 = myoutput.beta[0]\n",
    "\n",
    "B_1 = myoutput.beta[1]\n",
    "\n",
    "B_0_err = myoutput.sd_beta[0]\n",
    "\n",
    "B_1_err = myoutput.sd_beta[1]"
   ]
  },
  {
   "cell_type": "code",
   "execution_count": 80,
   "id": "1a29b444",
   "metadata": {
    "scrolled": true
   },
   "outputs": [
    {
     "data": {
      "application/javascript": [
       "/* Put everything inside the global mpl namespace */\n",
       "/* global mpl */\n",
       "window.mpl = {};\n",
       "\n",
       "mpl.get_websocket_type = function () {\n",
       "    if (typeof WebSocket !== 'undefined') {\n",
       "        return WebSocket;\n",
       "    } else if (typeof MozWebSocket !== 'undefined') {\n",
       "        return MozWebSocket;\n",
       "    } else {\n",
       "        alert(\n",
       "            'Your browser does not have WebSocket support. ' +\n",
       "                'Please try Chrome, Safari or Firefox ≥ 6. ' +\n",
       "                'Firefox 4 and 5 are also supported but you ' +\n",
       "                'have to enable WebSockets in about:config.'\n",
       "        );\n",
       "    }\n",
       "};\n",
       "\n",
       "mpl.figure = function (figure_id, websocket, ondownload, parent_element) {\n",
       "    this.id = figure_id;\n",
       "\n",
       "    this.ws = websocket;\n",
       "\n",
       "    this.supports_binary = this.ws.binaryType !== undefined;\n",
       "\n",
       "    if (!this.supports_binary) {\n",
       "        var warnings = document.getElementById('mpl-warnings');\n",
       "        if (warnings) {\n",
       "            warnings.style.display = 'block';\n",
       "            warnings.textContent =\n",
       "                'This browser does not support binary websocket messages. ' +\n",
       "                'Performance may be slow.';\n",
       "        }\n",
       "    }\n",
       "\n",
       "    this.imageObj = new Image();\n",
       "\n",
       "    this.context = undefined;\n",
       "    this.message = undefined;\n",
       "    this.canvas = undefined;\n",
       "    this.rubberband_canvas = undefined;\n",
       "    this.rubberband_context = undefined;\n",
       "    this.format_dropdown = undefined;\n",
       "\n",
       "    this.image_mode = 'full';\n",
       "\n",
       "    this.root = document.createElement('div');\n",
       "    this.root.setAttribute('style', 'display: inline-block');\n",
       "    this._root_extra_style(this.root);\n",
       "\n",
       "    parent_element.appendChild(this.root);\n",
       "\n",
       "    this._init_header(this);\n",
       "    this._init_canvas(this);\n",
       "    this._init_toolbar(this);\n",
       "\n",
       "    var fig = this;\n",
       "\n",
       "    this.waiting = false;\n",
       "\n",
       "    this.ws.onopen = function () {\n",
       "        fig.send_message('supports_binary', { value: fig.supports_binary });\n",
       "        fig.send_message('send_image_mode', {});\n",
       "        if (fig.ratio !== 1) {\n",
       "            fig.send_message('set_device_pixel_ratio', {\n",
       "                device_pixel_ratio: fig.ratio,\n",
       "            });\n",
       "        }\n",
       "        fig.send_message('refresh', {});\n",
       "    };\n",
       "\n",
       "    this.imageObj.onload = function () {\n",
       "        if (fig.image_mode === 'full') {\n",
       "            // Full images could contain transparency (where diff images\n",
       "            // almost always do), so we need to clear the canvas so that\n",
       "            // there is no ghosting.\n",
       "            fig.context.clearRect(0, 0, fig.canvas.width, fig.canvas.height);\n",
       "        }\n",
       "        fig.context.drawImage(fig.imageObj, 0, 0);\n",
       "    };\n",
       "\n",
       "    this.imageObj.onunload = function () {\n",
       "        fig.ws.close();\n",
       "    };\n",
       "\n",
       "    this.ws.onmessage = this._make_on_message_function(this);\n",
       "\n",
       "    this.ondownload = ondownload;\n",
       "};\n",
       "\n",
       "mpl.figure.prototype._init_header = function () {\n",
       "    var titlebar = document.createElement('div');\n",
       "    titlebar.classList =\n",
       "        'ui-dialog-titlebar ui-widget-header ui-corner-all ui-helper-clearfix';\n",
       "    var titletext = document.createElement('div');\n",
       "    titletext.classList = 'ui-dialog-title';\n",
       "    titletext.setAttribute(\n",
       "        'style',\n",
       "        'width: 100%; text-align: center; padding: 3px;'\n",
       "    );\n",
       "    titlebar.appendChild(titletext);\n",
       "    this.root.appendChild(titlebar);\n",
       "    this.header = titletext;\n",
       "};\n",
       "\n",
       "mpl.figure.prototype._canvas_extra_style = function (_canvas_div) {};\n",
       "\n",
       "mpl.figure.prototype._root_extra_style = function (_canvas_div) {};\n",
       "\n",
       "mpl.figure.prototype._init_canvas = function () {\n",
       "    var fig = this;\n",
       "\n",
       "    var canvas_div = (this.canvas_div = document.createElement('div'));\n",
       "    canvas_div.setAttribute(\n",
       "        'style',\n",
       "        'border: 1px solid #ddd;' +\n",
       "            'box-sizing: content-box;' +\n",
       "            'clear: both;' +\n",
       "            'min-height: 1px;' +\n",
       "            'min-width: 1px;' +\n",
       "            'outline: 0;' +\n",
       "            'overflow: hidden;' +\n",
       "            'position: relative;' +\n",
       "            'resize: both;'\n",
       "    );\n",
       "\n",
       "    function on_keyboard_event_closure(name) {\n",
       "        return function (event) {\n",
       "            return fig.key_event(event, name);\n",
       "        };\n",
       "    }\n",
       "\n",
       "    canvas_div.addEventListener(\n",
       "        'keydown',\n",
       "        on_keyboard_event_closure('key_press')\n",
       "    );\n",
       "    canvas_div.addEventListener(\n",
       "        'keyup',\n",
       "        on_keyboard_event_closure('key_release')\n",
       "    );\n",
       "\n",
       "    this._canvas_extra_style(canvas_div);\n",
       "    this.root.appendChild(canvas_div);\n",
       "\n",
       "    var canvas = (this.canvas = document.createElement('canvas'));\n",
       "    canvas.classList.add('mpl-canvas');\n",
       "    canvas.setAttribute('style', 'box-sizing: content-box;');\n",
       "\n",
       "    this.context = canvas.getContext('2d');\n",
       "\n",
       "    var backingStore =\n",
       "        this.context.backingStorePixelRatio ||\n",
       "        this.context.webkitBackingStorePixelRatio ||\n",
       "        this.context.mozBackingStorePixelRatio ||\n",
       "        this.context.msBackingStorePixelRatio ||\n",
       "        this.context.oBackingStorePixelRatio ||\n",
       "        this.context.backingStorePixelRatio ||\n",
       "        1;\n",
       "\n",
       "    this.ratio = (window.devicePixelRatio || 1) / backingStore;\n",
       "\n",
       "    var rubberband_canvas = (this.rubberband_canvas = document.createElement(\n",
       "        'canvas'\n",
       "    ));\n",
       "    rubberband_canvas.setAttribute(\n",
       "        'style',\n",
       "        'box-sizing: content-box; position: absolute; left: 0; top: 0; z-index: 1;'\n",
       "    );\n",
       "\n",
       "    // Apply a ponyfill if ResizeObserver is not implemented by browser.\n",
       "    if (this.ResizeObserver === undefined) {\n",
       "        if (window.ResizeObserver !== undefined) {\n",
       "            this.ResizeObserver = window.ResizeObserver;\n",
       "        } else {\n",
       "            var obs = _JSXTOOLS_RESIZE_OBSERVER({});\n",
       "            this.ResizeObserver = obs.ResizeObserver;\n",
       "        }\n",
       "    }\n",
       "\n",
       "    this.resizeObserverInstance = new this.ResizeObserver(function (entries) {\n",
       "        var nentries = entries.length;\n",
       "        for (var i = 0; i < nentries; i++) {\n",
       "            var entry = entries[i];\n",
       "            var width, height;\n",
       "            if (entry.contentBoxSize) {\n",
       "                if (entry.contentBoxSize instanceof Array) {\n",
       "                    // Chrome 84 implements new version of spec.\n",
       "                    width = entry.contentBoxSize[0].inlineSize;\n",
       "                    height = entry.contentBoxSize[0].blockSize;\n",
       "                } else {\n",
       "                    // Firefox implements old version of spec.\n",
       "                    width = entry.contentBoxSize.inlineSize;\n",
       "                    height = entry.contentBoxSize.blockSize;\n",
       "                }\n",
       "            } else {\n",
       "                // Chrome <84 implements even older version of spec.\n",
       "                width = entry.contentRect.width;\n",
       "                height = entry.contentRect.height;\n",
       "            }\n",
       "\n",
       "            // Keep the size of the canvas and rubber band canvas in sync with\n",
       "            // the canvas container.\n",
       "            if (entry.devicePixelContentBoxSize) {\n",
       "                // Chrome 84 implements new version of spec.\n",
       "                canvas.setAttribute(\n",
       "                    'width',\n",
       "                    entry.devicePixelContentBoxSize[0].inlineSize\n",
       "                );\n",
       "                canvas.setAttribute(\n",
       "                    'height',\n",
       "                    entry.devicePixelContentBoxSize[0].blockSize\n",
       "                );\n",
       "            } else {\n",
       "                canvas.setAttribute('width', width * fig.ratio);\n",
       "                canvas.setAttribute('height', height * fig.ratio);\n",
       "            }\n",
       "            canvas.setAttribute(\n",
       "                'style',\n",
       "                'width: ' + width + 'px; height: ' + height + 'px;'\n",
       "            );\n",
       "\n",
       "            rubberband_canvas.setAttribute('width', width);\n",
       "            rubberband_canvas.setAttribute('height', height);\n",
       "\n",
       "            // And update the size in Python. We ignore the initial 0/0 size\n",
       "            // that occurs as the element is placed into the DOM, which should\n",
       "            // otherwise not happen due to the minimum size styling.\n",
       "            if (fig.ws.readyState == 1 && width != 0 && height != 0) {\n",
       "                fig.request_resize(width, height);\n",
       "            }\n",
       "        }\n",
       "    });\n",
       "    this.resizeObserverInstance.observe(canvas_div);\n",
       "\n",
       "    function on_mouse_event_closure(name) {\n",
       "        return function (event) {\n",
       "            return fig.mouse_event(event, name);\n",
       "        };\n",
       "    }\n",
       "\n",
       "    rubberband_canvas.addEventListener(\n",
       "        'mousedown',\n",
       "        on_mouse_event_closure('button_press')\n",
       "    );\n",
       "    rubberband_canvas.addEventListener(\n",
       "        'mouseup',\n",
       "        on_mouse_event_closure('button_release')\n",
       "    );\n",
       "    rubberband_canvas.addEventListener(\n",
       "        'dblclick',\n",
       "        on_mouse_event_closure('dblclick')\n",
       "    );\n",
       "    // Throttle sequential mouse events to 1 every 20ms.\n",
       "    rubberband_canvas.addEventListener(\n",
       "        'mousemove',\n",
       "        on_mouse_event_closure('motion_notify')\n",
       "    );\n",
       "\n",
       "    rubberband_canvas.addEventListener(\n",
       "        'mouseenter',\n",
       "        on_mouse_event_closure('figure_enter')\n",
       "    );\n",
       "    rubberband_canvas.addEventListener(\n",
       "        'mouseleave',\n",
       "        on_mouse_event_closure('figure_leave')\n",
       "    );\n",
       "\n",
       "    canvas_div.addEventListener('wheel', function (event) {\n",
       "        if (event.deltaY < 0) {\n",
       "            event.step = 1;\n",
       "        } else {\n",
       "            event.step = -1;\n",
       "        }\n",
       "        on_mouse_event_closure('scroll')(event);\n",
       "    });\n",
       "\n",
       "    canvas_div.appendChild(canvas);\n",
       "    canvas_div.appendChild(rubberband_canvas);\n",
       "\n",
       "    this.rubberband_context = rubberband_canvas.getContext('2d');\n",
       "    this.rubberband_context.strokeStyle = '#000000';\n",
       "\n",
       "    this._resize_canvas = function (width, height, forward) {\n",
       "        if (forward) {\n",
       "            canvas_div.style.width = width + 'px';\n",
       "            canvas_div.style.height = height + 'px';\n",
       "        }\n",
       "    };\n",
       "\n",
       "    // Disable right mouse context menu.\n",
       "    this.rubberband_canvas.addEventListener('contextmenu', function (_e) {\n",
       "        event.preventDefault();\n",
       "        return false;\n",
       "    });\n",
       "\n",
       "    function set_focus() {\n",
       "        canvas.focus();\n",
       "        canvas_div.focus();\n",
       "    }\n",
       "\n",
       "    window.setTimeout(set_focus, 100);\n",
       "};\n",
       "\n",
       "mpl.figure.prototype._init_toolbar = function () {\n",
       "    var fig = this;\n",
       "\n",
       "    var toolbar = document.createElement('div');\n",
       "    toolbar.classList = 'mpl-toolbar';\n",
       "    this.root.appendChild(toolbar);\n",
       "\n",
       "    function on_click_closure(name) {\n",
       "        return function (_event) {\n",
       "            return fig.toolbar_button_onclick(name);\n",
       "        };\n",
       "    }\n",
       "\n",
       "    function on_mouseover_closure(tooltip) {\n",
       "        return function (event) {\n",
       "            if (!event.currentTarget.disabled) {\n",
       "                return fig.toolbar_button_onmouseover(tooltip);\n",
       "            }\n",
       "        };\n",
       "    }\n",
       "\n",
       "    fig.buttons = {};\n",
       "    var buttonGroup = document.createElement('div');\n",
       "    buttonGroup.classList = 'mpl-button-group';\n",
       "    for (var toolbar_ind in mpl.toolbar_items) {\n",
       "        var name = mpl.toolbar_items[toolbar_ind][0];\n",
       "        var tooltip = mpl.toolbar_items[toolbar_ind][1];\n",
       "        var image = mpl.toolbar_items[toolbar_ind][2];\n",
       "        var method_name = mpl.toolbar_items[toolbar_ind][3];\n",
       "\n",
       "        if (!name) {\n",
       "            /* Instead of a spacer, we start a new button group. */\n",
       "            if (buttonGroup.hasChildNodes()) {\n",
       "                toolbar.appendChild(buttonGroup);\n",
       "            }\n",
       "            buttonGroup = document.createElement('div');\n",
       "            buttonGroup.classList = 'mpl-button-group';\n",
       "            continue;\n",
       "        }\n",
       "\n",
       "        var button = (fig.buttons[name] = document.createElement('button'));\n",
       "        button.classList = 'mpl-widget';\n",
       "        button.setAttribute('role', 'button');\n",
       "        button.setAttribute('aria-disabled', 'false');\n",
       "        button.addEventListener('click', on_click_closure(method_name));\n",
       "        button.addEventListener('mouseover', on_mouseover_closure(tooltip));\n",
       "\n",
       "        var icon_img = document.createElement('img');\n",
       "        icon_img.src = '_images/' + image + '.png';\n",
       "        icon_img.srcset = '_images/' + image + '_large.png 2x';\n",
       "        icon_img.alt = tooltip;\n",
       "        button.appendChild(icon_img);\n",
       "\n",
       "        buttonGroup.appendChild(button);\n",
       "    }\n",
       "\n",
       "    if (buttonGroup.hasChildNodes()) {\n",
       "        toolbar.appendChild(buttonGroup);\n",
       "    }\n",
       "\n",
       "    var fmt_picker = document.createElement('select');\n",
       "    fmt_picker.classList = 'mpl-widget';\n",
       "    toolbar.appendChild(fmt_picker);\n",
       "    this.format_dropdown = fmt_picker;\n",
       "\n",
       "    for (var ind in mpl.extensions) {\n",
       "        var fmt = mpl.extensions[ind];\n",
       "        var option = document.createElement('option');\n",
       "        option.selected = fmt === mpl.default_extension;\n",
       "        option.innerHTML = fmt;\n",
       "        fmt_picker.appendChild(option);\n",
       "    }\n",
       "\n",
       "    var status_bar = document.createElement('span');\n",
       "    status_bar.classList = 'mpl-message';\n",
       "    toolbar.appendChild(status_bar);\n",
       "    this.message = status_bar;\n",
       "};\n",
       "\n",
       "mpl.figure.prototype.request_resize = function (x_pixels, y_pixels) {\n",
       "    // Request matplotlib to resize the figure. Matplotlib will then trigger a resize in the client,\n",
       "    // which will in turn request a refresh of the image.\n",
       "    this.send_message('resize', { width: x_pixels, height: y_pixels });\n",
       "};\n",
       "\n",
       "mpl.figure.prototype.send_message = function (type, properties) {\n",
       "    properties['type'] = type;\n",
       "    properties['figure_id'] = this.id;\n",
       "    this.ws.send(JSON.stringify(properties));\n",
       "};\n",
       "\n",
       "mpl.figure.prototype.send_draw_message = function () {\n",
       "    if (!this.waiting) {\n",
       "        this.waiting = true;\n",
       "        this.ws.send(JSON.stringify({ type: 'draw', figure_id: this.id }));\n",
       "    }\n",
       "};\n",
       "\n",
       "mpl.figure.prototype.handle_save = function (fig, _msg) {\n",
       "    var format_dropdown = fig.format_dropdown;\n",
       "    var format = format_dropdown.options[format_dropdown.selectedIndex].value;\n",
       "    fig.ondownload(fig, format);\n",
       "};\n",
       "\n",
       "mpl.figure.prototype.handle_resize = function (fig, msg) {\n",
       "    var size = msg['size'];\n",
       "    if (size[0] !== fig.canvas.width || size[1] !== fig.canvas.height) {\n",
       "        fig._resize_canvas(size[0], size[1], msg['forward']);\n",
       "        fig.send_message('refresh', {});\n",
       "    }\n",
       "};\n",
       "\n",
       "mpl.figure.prototype.handle_rubberband = function (fig, msg) {\n",
       "    var x0 = msg['x0'] / fig.ratio;\n",
       "    var y0 = (fig.canvas.height - msg['y0']) / fig.ratio;\n",
       "    var x1 = msg['x1'] / fig.ratio;\n",
       "    var y1 = (fig.canvas.height - msg['y1']) / fig.ratio;\n",
       "    x0 = Math.floor(x0) + 0.5;\n",
       "    y0 = Math.floor(y0) + 0.5;\n",
       "    x1 = Math.floor(x1) + 0.5;\n",
       "    y1 = Math.floor(y1) + 0.5;\n",
       "    var min_x = Math.min(x0, x1);\n",
       "    var min_y = Math.min(y0, y1);\n",
       "    var width = Math.abs(x1 - x0);\n",
       "    var height = Math.abs(y1 - y0);\n",
       "\n",
       "    fig.rubberband_context.clearRect(\n",
       "        0,\n",
       "        0,\n",
       "        fig.canvas.width / fig.ratio,\n",
       "        fig.canvas.height / fig.ratio\n",
       "    );\n",
       "\n",
       "    fig.rubberband_context.strokeRect(min_x, min_y, width, height);\n",
       "};\n",
       "\n",
       "mpl.figure.prototype.handle_figure_label = function (fig, msg) {\n",
       "    // Updates the figure title.\n",
       "    fig.header.textContent = msg['label'];\n",
       "};\n",
       "\n",
       "mpl.figure.prototype.handle_cursor = function (fig, msg) {\n",
       "    fig.rubberband_canvas.style.cursor = msg['cursor'];\n",
       "};\n",
       "\n",
       "mpl.figure.prototype.handle_message = function (fig, msg) {\n",
       "    fig.message.textContent = msg['message'];\n",
       "};\n",
       "\n",
       "mpl.figure.prototype.handle_draw = function (fig, _msg) {\n",
       "    // Request the server to send over a new figure.\n",
       "    fig.send_draw_message();\n",
       "};\n",
       "\n",
       "mpl.figure.prototype.handle_image_mode = function (fig, msg) {\n",
       "    fig.image_mode = msg['mode'];\n",
       "};\n",
       "\n",
       "mpl.figure.prototype.handle_history_buttons = function (fig, msg) {\n",
       "    for (var key in msg) {\n",
       "        if (!(key in fig.buttons)) {\n",
       "            continue;\n",
       "        }\n",
       "        fig.buttons[key].disabled = !msg[key];\n",
       "        fig.buttons[key].setAttribute('aria-disabled', !msg[key]);\n",
       "    }\n",
       "};\n",
       "\n",
       "mpl.figure.prototype.handle_navigate_mode = function (fig, msg) {\n",
       "    if (msg['mode'] === 'PAN') {\n",
       "        fig.buttons['Pan'].classList.add('active');\n",
       "        fig.buttons['Zoom'].classList.remove('active');\n",
       "    } else if (msg['mode'] === 'ZOOM') {\n",
       "        fig.buttons['Pan'].classList.remove('active');\n",
       "        fig.buttons['Zoom'].classList.add('active');\n",
       "    } else {\n",
       "        fig.buttons['Pan'].classList.remove('active');\n",
       "        fig.buttons['Zoom'].classList.remove('active');\n",
       "    }\n",
       "};\n",
       "\n",
       "mpl.figure.prototype.updated_canvas_event = function () {\n",
       "    // Called whenever the canvas gets updated.\n",
       "    this.send_message('ack', {});\n",
       "};\n",
       "\n",
       "// A function to construct a web socket function for onmessage handling.\n",
       "// Called in the figure constructor.\n",
       "mpl.figure.prototype._make_on_message_function = function (fig) {\n",
       "    return function socket_on_message(evt) {\n",
       "        if (evt.data instanceof Blob) {\n",
       "            var img = evt.data;\n",
       "            if (img.type !== 'image/png') {\n",
       "                /* FIXME: We get \"Resource interpreted as Image but\n",
       "                 * transferred with MIME type text/plain:\" errors on\n",
       "                 * Chrome.  But how to set the MIME type?  It doesn't seem\n",
       "                 * to be part of the websocket stream */\n",
       "                img.type = 'image/png';\n",
       "            }\n",
       "\n",
       "            /* Free the memory for the previous frames */\n",
       "            if (fig.imageObj.src) {\n",
       "                (window.URL || window.webkitURL).revokeObjectURL(\n",
       "                    fig.imageObj.src\n",
       "                );\n",
       "            }\n",
       "\n",
       "            fig.imageObj.src = (window.URL || window.webkitURL).createObjectURL(\n",
       "                img\n",
       "            );\n",
       "            fig.updated_canvas_event();\n",
       "            fig.waiting = false;\n",
       "            return;\n",
       "        } else if (\n",
       "            typeof evt.data === 'string' &&\n",
       "            evt.data.slice(0, 21) === 'data:image/png;base64'\n",
       "        ) {\n",
       "            fig.imageObj.src = evt.data;\n",
       "            fig.updated_canvas_event();\n",
       "            fig.waiting = false;\n",
       "            return;\n",
       "        }\n",
       "\n",
       "        var msg = JSON.parse(evt.data);\n",
       "        var msg_type = msg['type'];\n",
       "\n",
       "        // Call the  \"handle_{type}\" callback, which takes\n",
       "        // the figure and JSON message as its only arguments.\n",
       "        try {\n",
       "            var callback = fig['handle_' + msg_type];\n",
       "        } catch (e) {\n",
       "            console.log(\n",
       "                \"No handler for the '\" + msg_type + \"' message type: \",\n",
       "                msg\n",
       "            );\n",
       "            return;\n",
       "        }\n",
       "\n",
       "        if (callback) {\n",
       "            try {\n",
       "                // console.log(\"Handling '\" + msg_type + \"' message: \", msg);\n",
       "                callback(fig, msg);\n",
       "            } catch (e) {\n",
       "                console.log(\n",
       "                    \"Exception inside the 'handler_\" + msg_type + \"' callback:\",\n",
       "                    e,\n",
       "                    e.stack,\n",
       "                    msg\n",
       "                );\n",
       "            }\n",
       "        }\n",
       "    };\n",
       "};\n",
       "\n",
       "// from https://stackoverflow.com/questions/1114465/getting-mouse-location-in-canvas\n",
       "mpl.findpos = function (e) {\n",
       "    //this section is from http://www.quirksmode.org/js/events_properties.html\n",
       "    var targ;\n",
       "    if (!e) {\n",
       "        e = window.event;\n",
       "    }\n",
       "    if (e.target) {\n",
       "        targ = e.target;\n",
       "    } else if (e.srcElement) {\n",
       "        targ = e.srcElement;\n",
       "    }\n",
       "    if (targ.nodeType === 3) {\n",
       "        // defeat Safari bug\n",
       "        targ = targ.parentNode;\n",
       "    }\n",
       "\n",
       "    // pageX,Y are the mouse positions relative to the document\n",
       "    var boundingRect = targ.getBoundingClientRect();\n",
       "    var x = e.pageX - (boundingRect.left + document.body.scrollLeft);\n",
       "    var y = e.pageY - (boundingRect.top + document.body.scrollTop);\n",
       "\n",
       "    return { x: x, y: y };\n",
       "};\n",
       "\n",
       "/*\n",
       " * return a copy of an object with only non-object keys\n",
       " * we need this to avoid circular references\n",
       " * https://stackoverflow.com/a/24161582/3208463\n",
       " */\n",
       "function simpleKeys(original) {\n",
       "    return Object.keys(original).reduce(function (obj, key) {\n",
       "        if (typeof original[key] !== 'object') {\n",
       "            obj[key] = original[key];\n",
       "        }\n",
       "        return obj;\n",
       "    }, {});\n",
       "}\n",
       "\n",
       "mpl.figure.prototype.mouse_event = function (event, name) {\n",
       "    var canvas_pos = mpl.findpos(event);\n",
       "\n",
       "    if (name === 'button_press') {\n",
       "        this.canvas.focus();\n",
       "        this.canvas_div.focus();\n",
       "    }\n",
       "\n",
       "    var x = canvas_pos.x * this.ratio;\n",
       "    var y = canvas_pos.y * this.ratio;\n",
       "\n",
       "    this.send_message(name, {\n",
       "        x: x,\n",
       "        y: y,\n",
       "        button: event.button,\n",
       "        step: event.step,\n",
       "        guiEvent: simpleKeys(event),\n",
       "    });\n",
       "\n",
       "    /* This prevents the web browser from automatically changing to\n",
       "     * the text insertion cursor when the button is pressed.  We want\n",
       "     * to control all of the cursor setting manually through the\n",
       "     * 'cursor' event from matplotlib */\n",
       "    event.preventDefault();\n",
       "    return false;\n",
       "};\n",
       "\n",
       "mpl.figure.prototype._key_event_extra = function (_event, _name) {\n",
       "    // Handle any extra behaviour associated with a key event\n",
       "};\n",
       "\n",
       "mpl.figure.prototype.key_event = function (event, name) {\n",
       "    // Prevent repeat events\n",
       "    if (name === 'key_press') {\n",
       "        if (event.key === this._key) {\n",
       "            return;\n",
       "        } else {\n",
       "            this._key = event.key;\n",
       "        }\n",
       "    }\n",
       "    if (name === 'key_release') {\n",
       "        this._key = null;\n",
       "    }\n",
       "\n",
       "    var value = '';\n",
       "    if (event.ctrlKey && event.key !== 'Control') {\n",
       "        value += 'ctrl+';\n",
       "    }\n",
       "    else if (event.altKey && event.key !== 'Alt') {\n",
       "        value += 'alt+';\n",
       "    }\n",
       "    else if (event.shiftKey && event.key !== 'Shift') {\n",
       "        value += 'shift+';\n",
       "    }\n",
       "\n",
       "    value += 'k' + event.key;\n",
       "\n",
       "    this._key_event_extra(event, name);\n",
       "\n",
       "    this.send_message(name, { key: value, guiEvent: simpleKeys(event) });\n",
       "    return false;\n",
       "};\n",
       "\n",
       "mpl.figure.prototype.toolbar_button_onclick = function (name) {\n",
       "    if (name === 'download') {\n",
       "        this.handle_save(this, null);\n",
       "    } else {\n",
       "        this.send_message('toolbar_button', { name: name });\n",
       "    }\n",
       "};\n",
       "\n",
       "mpl.figure.prototype.toolbar_button_onmouseover = function (tooltip) {\n",
       "    this.message.textContent = tooltip;\n",
       "};\n",
       "\n",
       "///////////////// REMAINING CONTENT GENERATED BY embed_js.py /////////////////\n",
       "// prettier-ignore\n",
       "var _JSXTOOLS_RESIZE_OBSERVER=function(A){var t,i=new WeakMap,n=new WeakMap,a=new WeakMap,r=new WeakMap,o=new Set;function s(e){if(!(this instanceof s))throw new TypeError(\"Constructor requires 'new' operator\");i.set(this,e)}function h(){throw new TypeError(\"Function is not a constructor\")}function c(e,t,i,n){e=0 in arguments?Number(arguments[0]):0,t=1 in arguments?Number(arguments[1]):0,i=2 in arguments?Number(arguments[2]):0,n=3 in arguments?Number(arguments[3]):0,this.right=(this.x=this.left=e)+(this.width=i),this.bottom=(this.y=this.top=t)+(this.height=n),Object.freeze(this)}function d(){t=requestAnimationFrame(d);var s=new WeakMap,p=new Set;o.forEach((function(t){r.get(t).forEach((function(i){var r=t instanceof window.SVGElement,o=a.get(t),d=r?0:parseFloat(o.paddingTop),f=r?0:parseFloat(o.paddingRight),l=r?0:parseFloat(o.paddingBottom),u=r?0:parseFloat(o.paddingLeft),g=r?0:parseFloat(o.borderTopWidth),m=r?0:parseFloat(o.borderRightWidth),w=r?0:parseFloat(o.borderBottomWidth),b=u+f,F=d+l,v=(r?0:parseFloat(o.borderLeftWidth))+m,W=g+w,y=r?0:t.offsetHeight-W-t.clientHeight,E=r?0:t.offsetWidth-v-t.clientWidth,R=b+v,z=F+W,M=r?t.width:parseFloat(o.width)-R-E,O=r?t.height:parseFloat(o.height)-z-y;if(n.has(t)){var k=n.get(t);if(k[0]===M&&k[1]===O)return}n.set(t,[M,O]);var S=Object.create(h.prototype);S.target=t,S.contentRect=new c(u,d,M,O),s.has(i)||(s.set(i,[]),p.add(i)),s.get(i).push(S)}))})),p.forEach((function(e){i.get(e).call(e,s.get(e),e)}))}return s.prototype.observe=function(i){if(i instanceof window.Element){r.has(i)||(r.set(i,new Set),o.add(i),a.set(i,window.getComputedStyle(i)));var n=r.get(i);n.has(this)||n.add(this),cancelAnimationFrame(t),t=requestAnimationFrame(d)}},s.prototype.unobserve=function(i){if(i instanceof window.Element&&r.has(i)){var n=r.get(i);n.has(this)&&(n.delete(this),n.size||(r.delete(i),o.delete(i))),n.size||r.delete(i),o.size||cancelAnimationFrame(t)}},A.DOMRectReadOnly=c,A.ResizeObserver=s,A.ResizeObserverEntry=h,A}; // eslint-disable-line\n",
       "mpl.toolbar_items = [[\"Home\", \"Reset original view\", \"fa fa-home icon-home\", \"home\"], [\"Back\", \"Back to previous view\", \"fa fa-arrow-left icon-arrow-left\", \"back\"], [\"Forward\", \"Forward to next view\", \"fa fa-arrow-right icon-arrow-right\", \"forward\"], [\"\", \"\", \"\", \"\"], [\"Pan\", \"Left button pans, Right button zooms\\nx/y fixes axis, CTRL fixes aspect\", \"fa fa-arrows icon-move\", \"pan\"], [\"Zoom\", \"Zoom to rectangle\\nx/y fixes axis\", \"fa fa-square-o icon-check-empty\", \"zoom\"], [\"\", \"\", \"\", \"\"], [\"Download\", \"Download plot\", \"fa fa-floppy-o icon-save\", \"download\"]];\n",
       "\n",
       "mpl.extensions = [\"eps\", \"jpeg\", \"pgf\", \"pdf\", \"png\", \"ps\", \"raw\", \"svg\", \"tif\"];\n",
       "\n",
       "mpl.default_extension = \"png\";/* global mpl */\n",
       "\n",
       "var comm_websocket_adapter = function (comm) {\n",
       "    // Create a \"websocket\"-like object which calls the given IPython comm\n",
       "    // object with the appropriate methods. Currently this is a non binary\n",
       "    // socket, so there is still some room for performance tuning.\n",
       "    var ws = {};\n",
       "\n",
       "    ws.binaryType = comm.kernel.ws.binaryType;\n",
       "    ws.readyState = comm.kernel.ws.readyState;\n",
       "    function updateReadyState(_event) {\n",
       "        if (comm.kernel.ws) {\n",
       "            ws.readyState = comm.kernel.ws.readyState;\n",
       "        } else {\n",
       "            ws.readyState = 3; // Closed state.\n",
       "        }\n",
       "    }\n",
       "    comm.kernel.ws.addEventListener('open', updateReadyState);\n",
       "    comm.kernel.ws.addEventListener('close', updateReadyState);\n",
       "    comm.kernel.ws.addEventListener('error', updateReadyState);\n",
       "\n",
       "    ws.close = function () {\n",
       "        comm.close();\n",
       "    };\n",
       "    ws.send = function (m) {\n",
       "        //console.log('sending', m);\n",
       "        comm.send(m);\n",
       "    };\n",
       "    // Register the callback with on_msg.\n",
       "    comm.on_msg(function (msg) {\n",
       "        //console.log('receiving', msg['content']['data'], msg);\n",
       "        var data = msg['content']['data'];\n",
       "        if (data['blob'] !== undefined) {\n",
       "            data = {\n",
       "                data: new Blob(msg['buffers'], { type: data['blob'] }),\n",
       "            };\n",
       "        }\n",
       "        // Pass the mpl event to the overridden (by mpl) onmessage function.\n",
       "        ws.onmessage(data);\n",
       "    });\n",
       "    return ws;\n",
       "};\n",
       "\n",
       "mpl.mpl_figure_comm = function (comm, msg) {\n",
       "    // This is the function which gets called when the mpl process\n",
       "    // starts-up an IPython Comm through the \"matplotlib\" channel.\n",
       "\n",
       "    var id = msg.content.data.id;\n",
       "    // Get hold of the div created by the display call when the Comm\n",
       "    // socket was opened in Python.\n",
       "    var element = document.getElementById(id);\n",
       "    var ws_proxy = comm_websocket_adapter(comm);\n",
       "\n",
       "    function ondownload(figure, _format) {\n",
       "        window.open(figure.canvas.toDataURL());\n",
       "    }\n",
       "\n",
       "    var fig = new mpl.figure(id, ws_proxy, ondownload, element);\n",
       "\n",
       "    // Call onopen now - mpl needs it, as it is assuming we've passed it a real\n",
       "    // web socket which is closed, not our websocket->open comm proxy.\n",
       "    ws_proxy.onopen();\n",
       "\n",
       "    fig.parent_element = element;\n",
       "    fig.cell_info = mpl.find_output_cell(\"<div id='\" + id + \"'></div>\");\n",
       "    if (!fig.cell_info) {\n",
       "        console.error('Failed to find cell for figure', id, fig);\n",
       "        return;\n",
       "    }\n",
       "    fig.cell_info[0].output_area.element.on(\n",
       "        'cleared',\n",
       "        { fig: fig },\n",
       "        fig._remove_fig_handler\n",
       "    );\n",
       "};\n",
       "\n",
       "mpl.figure.prototype.handle_close = function (fig, msg) {\n",
       "    var width = fig.canvas.width / fig.ratio;\n",
       "    fig.cell_info[0].output_area.element.off(\n",
       "        'cleared',\n",
       "        fig._remove_fig_handler\n",
       "    );\n",
       "    fig.resizeObserverInstance.unobserve(fig.canvas_div);\n",
       "\n",
       "    // Update the output cell to use the data from the current canvas.\n",
       "    fig.push_to_output();\n",
       "    var dataURL = fig.canvas.toDataURL();\n",
       "    // Re-enable the keyboard manager in IPython - without this line, in FF,\n",
       "    // the notebook keyboard shortcuts fail.\n",
       "    IPython.keyboard_manager.enable();\n",
       "    fig.parent_element.innerHTML =\n",
       "        '<img src=\"' + dataURL + '\" width=\"' + width + '\">';\n",
       "    fig.close_ws(fig, msg);\n",
       "};\n",
       "\n",
       "mpl.figure.prototype.close_ws = function (fig, msg) {\n",
       "    fig.send_message('closing', msg);\n",
       "    // fig.ws.close()\n",
       "};\n",
       "\n",
       "mpl.figure.prototype.push_to_output = function (_remove_interactive) {\n",
       "    // Turn the data on the canvas into data in the output cell.\n",
       "    var width = this.canvas.width / this.ratio;\n",
       "    var dataURL = this.canvas.toDataURL();\n",
       "    this.cell_info[1]['text/html'] =\n",
       "        '<img src=\"' + dataURL + '\" width=\"' + width + '\">';\n",
       "};\n",
       "\n",
       "mpl.figure.prototype.updated_canvas_event = function () {\n",
       "    // Tell IPython that the notebook contents must change.\n",
       "    IPython.notebook.set_dirty(true);\n",
       "    this.send_message('ack', {});\n",
       "    var fig = this;\n",
       "    // Wait a second, then push the new image to the DOM so\n",
       "    // that it is saved nicely (might be nice to debounce this).\n",
       "    setTimeout(function () {\n",
       "        fig.push_to_output();\n",
       "    }, 1000);\n",
       "};\n",
       "\n",
       "mpl.figure.prototype._init_toolbar = function () {\n",
       "    var fig = this;\n",
       "\n",
       "    var toolbar = document.createElement('div');\n",
       "    toolbar.classList = 'btn-toolbar';\n",
       "    this.root.appendChild(toolbar);\n",
       "\n",
       "    function on_click_closure(name) {\n",
       "        return function (_event) {\n",
       "            return fig.toolbar_button_onclick(name);\n",
       "        };\n",
       "    }\n",
       "\n",
       "    function on_mouseover_closure(tooltip) {\n",
       "        return function (event) {\n",
       "            if (!event.currentTarget.disabled) {\n",
       "                return fig.toolbar_button_onmouseover(tooltip);\n",
       "            }\n",
       "        };\n",
       "    }\n",
       "\n",
       "    fig.buttons = {};\n",
       "    var buttonGroup = document.createElement('div');\n",
       "    buttonGroup.classList = 'btn-group';\n",
       "    var button;\n",
       "    for (var toolbar_ind in mpl.toolbar_items) {\n",
       "        var name = mpl.toolbar_items[toolbar_ind][0];\n",
       "        var tooltip = mpl.toolbar_items[toolbar_ind][1];\n",
       "        var image = mpl.toolbar_items[toolbar_ind][2];\n",
       "        var method_name = mpl.toolbar_items[toolbar_ind][3];\n",
       "\n",
       "        if (!name) {\n",
       "            /* Instead of a spacer, we start a new button group. */\n",
       "            if (buttonGroup.hasChildNodes()) {\n",
       "                toolbar.appendChild(buttonGroup);\n",
       "            }\n",
       "            buttonGroup = document.createElement('div');\n",
       "            buttonGroup.classList = 'btn-group';\n",
       "            continue;\n",
       "        }\n",
       "\n",
       "        button = fig.buttons[name] = document.createElement('button');\n",
       "        button.classList = 'btn btn-default';\n",
       "        button.href = '#';\n",
       "        button.title = name;\n",
       "        button.innerHTML = '<i class=\"fa ' + image + ' fa-lg\"></i>';\n",
       "        button.addEventListener('click', on_click_closure(method_name));\n",
       "        button.addEventListener('mouseover', on_mouseover_closure(tooltip));\n",
       "        buttonGroup.appendChild(button);\n",
       "    }\n",
       "\n",
       "    if (buttonGroup.hasChildNodes()) {\n",
       "        toolbar.appendChild(buttonGroup);\n",
       "    }\n",
       "\n",
       "    // Add the status bar.\n",
       "    var status_bar = document.createElement('span');\n",
       "    status_bar.classList = 'mpl-message pull-right';\n",
       "    toolbar.appendChild(status_bar);\n",
       "    this.message = status_bar;\n",
       "\n",
       "    // Add the close button to the window.\n",
       "    var buttongrp = document.createElement('div');\n",
       "    buttongrp.classList = 'btn-group inline pull-right';\n",
       "    button = document.createElement('button');\n",
       "    button.classList = 'btn btn-mini btn-primary';\n",
       "    button.href = '#';\n",
       "    button.title = 'Stop Interaction';\n",
       "    button.innerHTML = '<i class=\"fa fa-power-off icon-remove icon-large\"></i>';\n",
       "    button.addEventListener('click', function (_evt) {\n",
       "        fig.handle_close(fig, {});\n",
       "    });\n",
       "    button.addEventListener(\n",
       "        'mouseover',\n",
       "        on_mouseover_closure('Stop Interaction')\n",
       "    );\n",
       "    buttongrp.appendChild(button);\n",
       "    var titlebar = this.root.querySelector('.ui-dialog-titlebar');\n",
       "    titlebar.insertBefore(buttongrp, titlebar.firstChild);\n",
       "};\n",
       "\n",
       "mpl.figure.prototype._remove_fig_handler = function (event) {\n",
       "    var fig = event.data.fig;\n",
       "    if (event.target !== this) {\n",
       "        // Ignore bubbled events from children.\n",
       "        return;\n",
       "    }\n",
       "    fig.close_ws(fig, {});\n",
       "};\n",
       "\n",
       "mpl.figure.prototype._root_extra_style = function (el) {\n",
       "    el.style.boxSizing = 'content-box'; // override notebook setting of border-box.\n",
       "};\n",
       "\n",
       "mpl.figure.prototype._canvas_extra_style = function (el) {\n",
       "    // this is important to make the div 'focusable\n",
       "    el.setAttribute('tabindex', 0);\n",
       "    // reach out to IPython and tell the keyboard manager to turn it's self\n",
       "    // off when our div gets focus\n",
       "\n",
       "    // location in version 3\n",
       "    if (IPython.notebook.keyboard_manager) {\n",
       "        IPython.notebook.keyboard_manager.register_events(el);\n",
       "    } else {\n",
       "        // location in version 2\n",
       "        IPython.keyboard_manager.register_events(el);\n",
       "    }\n",
       "};\n",
       "\n",
       "mpl.figure.prototype._key_event_extra = function (event, _name) {\n",
       "    // Check for shift+enter\n",
       "    if (event.shiftKey && event.which === 13) {\n",
       "        this.canvas_div.blur();\n",
       "        // select the cell after this one\n",
       "        var index = IPython.notebook.find_cell_index(this.cell_info[0]);\n",
       "        IPython.notebook.select(index + 1);\n",
       "    }\n",
       "};\n",
       "\n",
       "mpl.figure.prototype.handle_save = function (fig, _msg) {\n",
       "    fig.ondownload(fig, null);\n",
       "};\n",
       "\n",
       "mpl.find_output_cell = function (html_output) {\n",
       "    // Return the cell and output element which can be found *uniquely* in the notebook.\n",
       "    // Note - this is a bit hacky, but it is done because the \"notebook_saving.Notebook\"\n",
       "    // IPython event is triggered only after the cells have been serialised, which for\n",
       "    // our purposes (turning an active figure into a static one), is too late.\n",
       "    var cells = IPython.notebook.get_cells();\n",
       "    var ncells = cells.length;\n",
       "    for (var i = 0; i < ncells; i++) {\n",
       "        var cell = cells[i];\n",
       "        if (cell.cell_type === 'code') {\n",
       "            for (var j = 0; j < cell.output_area.outputs.length; j++) {\n",
       "                var data = cell.output_area.outputs[j];\n",
       "                if (data.data) {\n",
       "                    // IPython >= 3 moved mimebundle to data attribute of output\n",
       "                    data = data.data;\n",
       "                }\n",
       "                if (data['text/html'] === html_output) {\n",
       "                    return [cell, data, j];\n",
       "                }\n",
       "            }\n",
       "        }\n",
       "    }\n",
       "};\n",
       "\n",
       "// Register the function which deals with the matplotlib target/channel.\n",
       "// The kernel may be null if the page has been refreshed.\n",
       "if (IPython.notebook.kernel !== null) {\n",
       "    IPython.notebook.kernel.comm_manager.register_target(\n",
       "        'matplotlib',\n",
       "        mpl.mpl_figure_comm\n",
       "    );\n",
       "}\n"
      ],
      "text/plain": [
       "<IPython.core.display.Javascript object>"
      ]
     },
     "metadata": {},
     "output_type": "display_data"
    },
    {
     "data": {
      "text/html": [
       "<img src=\"data:image/png;base64,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\" width=\"640\">"
      ],
      "text/plain": [
       "<IPython.core.display.HTML object>"
      ]
     },
     "metadata": {},
     "output_type": "display_data"
    }
   ],
   "source": [
    "# Set up the figure for plotting \n",
    "\n",
    "fig, ax = plt.subplots()\n",
    "\n",
    "#scatter plot of points \n",
    "plt.scatter(freq_data, vol_data, s = 100, color = \"blue\", zorder = 2)\n",
    "\n",
    "plt.scatter(freq_data_60, vol_60, s = 50, color = 'red', zorder = 2)\n",
    "\n",
    "# creating two error bars one for regular colors and one for 60% intensity \n",
    "plt.errorbar(freq_data, vol_data, xerr = freq_unc,yerr = unc_voltage,color = \"blue\",  ls = 'none')\n",
    "\n",
    "plt.errorbar(freq_data_60, vol_60, xerr = freq_unc_60, yerr = unc_voltage[2:], color = \"white\", ls = 'none')\n",
    "\n",
    "\n",
    "# creates the red trendline with base coefficients and the standard errors\n",
    "\n",
    "ax.axline((0, B_1), slope = B_0, color = \"red\" )\n",
    "\n",
    "x = np.arange(0, 3, 1)\n",
    "          \n",
    "ax.fill_between(x, ((B_0 - B_0_err)*x + (B_1 - B_1_err)) , ((B_0 + B_0_err)*x + (B_1 + B_1_err)))\n",
    "\n",
    "#X axis\n",
    "ax.axline((0, 0), slope = 0, color = \"black\")\n",
    "\n",
    "#creates the text showing slope and intercept as well as cutoff frequency \n",
    "\n",
    "ax.text(.1, 2, 'E =' + f\"{B_0:.2f}\" + \"x \"  + f\"{B_1:.2f}\")\n",
    "\n",
    "ax.text(.1, 1.5, 'cutoff frequency : .279 PHz')\n",
    "\n",
    "#Add labels to voltage frequency \n",
    "plt.xlabel(\"Frequency (PHz)\")\n",
    "\n",
    "plt.ylabel(\"Stopping Votlage (V)\")\n",
    "\n",
    "plt.xlim(0, .8)\n",
    "plt.ylim(-1.5, 3)\n",
    "\n",
    "plt.title(\"Voltage Vs Frequency\")\n",
    "\n",
    "plt.legend([\"100% Intensity\", \"60% Intensity\"])\n",
    "\n",
    "plt.savefig(\"Lab1PhotoElectricEffect\")"
   ]
  },
  {
   "cell_type": "markdown",
   "id": "cae26019",
   "metadata": {},
   "source": [
    "As can be seen, there is a linear relationship between the Frequency and the stopping voltage. The intensity of the incident light did not change the stopping voltage. \n",
    "\n",
    "These results allign with the predictions from quantum theory. "
   ]
  },
  {
   "cell_type": "markdown",
   "id": "c5467327",
   "metadata": {},
   "source": [
    "# 6. Calculate Planks constant\n",
    "\n",
    "The charge of an electron is known and the slope of the line is known from the Betas in the model output. \n",
    "\n",
    "Calculate the planks constant by multiplying the slope times the charge of the electron. Keep in mind the uncertanties present so use multiply_uncertainties"
   ]
  },
  {
   "cell_type": "code",
   "execution_count": 81,
   "id": "8e41ef8a",
   "metadata": {},
   "outputs": [
    {
     "data": {
      "text/plain": [
       "'5.893026229570359e-19 +/- 2.4162426021492318e-20'"
      ]
     },
     "execution_count": 81,
     "metadata": {},
     "output_type": "execute_result"
    }
   ],
   "source": [
    "e = 1.602 * 10 **-19\n",
    "\n",
    "h, h_del = multiply_uncertainties(e, 0, B_0, B_0_err )\n",
    "\n",
    "F\"{h} +/- {h_del}\""
   ]
  },
  {
   "cell_type": "code",
   "execution_count": 82,
   "id": "7d668b09",
   "metadata": {},
   "outputs": [
    {
     "data": {
      "text/plain": [
       "'planks constant is: h = e * (h/e) = (5.9 +-  0.2) * 10 ^-19 J-Hz '"
      ]
     },
     "execution_count": 82,
     "metadata": {},
     "output_type": "execute_result"
    }
   ],
   "source": [
    "F\"planks constant is: h = e * (h/e) = ({5.9} +-  {.2}) * 10 ^-19 J-Hz \""
   ]
  },
  {
   "cell_type": "code",
   "execution_count": 83,
   "id": "bf0a6d8f",
   "metadata": {},
   "outputs": [
    {
     "data": {
      "text/plain": [
       "'Close to accepted value of 6.62 * 1e-34 J-Hz but improper error propagation prevented acquisition of appropriate h '"
      ]
     },
     "execution_count": 83,
     "metadata": {},
     "output_type": "execute_result"
    }
   ],
   "source": [
    "F\"Close to accepted value of {6.62} * { 10**-34} J-Hz but improper error propagation prevented acquisition of appropriate h \""
   ]
  },
  {
   "cell_type": "markdown",
   "id": "7394d2fa",
   "metadata": {},
   "source": [
    "# 7 . Calculate work function (Optional)\n",
    "\n",
    "Work function can be calculated in a similar manner by multiplying the intercept by the charge of an electron. "
   ]
  },
  {
   "cell_type": "code",
   "execution_count": 87,
   "id": "499fddd5",
   "metadata": {},
   "outputs": [
    {
     "data": {
      "text/plain": [
       "'-1.627950925522459e-19 +/- 1.414496966362366e-20'"
      ]
     },
     "execution_count": 87,
     "metadata": {},
     "output_type": "execute_result"
    }
   ],
   "source": [
    "W0, W0_del = multiply_uncertainties(e, 0, B_1, B_1_err )\n",
    "\n",
    "F\"{W0} +/- {W0_del}\""
   ]
  },
  {
   "cell_type": "code",
   "execution_count": 92,
   "id": "d67ad33b",
   "metadata": {},
   "outputs": [
    {
     "data": {
      "text/plain": [
       "'The Work function is: W0 = (-1.62 +/- 0.14) * 10 ^-20 J'"
      ]
     },
     "execution_count": 92,
     "metadata": {},
     "output_type": "execute_result"
    }
   ],
   "source": [
    "F\"The Work function is: W0 = ({-1.62} +/- {.14}) * 10 ^-20 J\""
   ]
  },
  {
   "cell_type": "markdown",
   "id": "da447901",
   "metadata": {},
   "source": [
    "It looks like 1.62 +/- .14 J are needed to begin kicking off electrons "
   ]
  },
  {
   "cell_type": "markdown",
   "id": "3c740ded",
   "metadata": {},
   "source": [
    "# Sources\n",
    "\n",
    "- https://www.geeksforgeeks.org/orthogonal-distance-regression-using-scipy/#:~:text=Import%20ODR%20function%20from%20scipy.%20Create%20a%20sample,be%20used%20for%20fitting%2C%20by%20the%20odr%20function.\n",
    "\n",
    "- https://matplotlib.org/stable/gallery/lines_bars_and_markers/fill_between_demo.html\n",
    "\n",
    "- https://stackoverflow.com/questions/17431441/matplotlib-scatter-plot-to-foreground-on-top-of-a-contour-plot\n",
    "\n",
    "\n",
    "\n"
   ]
  },
  {
   "cell_type": "markdown",
   "id": "c930e31f",
   "metadata": {},
   "source": [
    "# Acknowledgements\n",
    "\n",
    "I would like to acknowledge the assistance of Professor Beardsley who helped me find issues in the notebook as well as advice for appropriate plotting. \n",
    "\n",
    "I would also like to thank jude riley for assisting me with this notebook "
   ]
  },
  {
   "cell_type": "code",
   "execution_count": null,
   "id": "94e44dee",
   "metadata": {},
   "outputs": [],
   "source": []
  }
 ],
 "metadata": {
  "kernelspec": {
   "display_name": "Python 3 (ipykernel)",
   "language": "python",
   "name": "python3"
  },
  "language_info": {
   "codemirror_mode": {
    "name": "ipython",
    "version": 3
   },
   "file_extension": ".py",
   "mimetype": "text/x-python",
   "name": "python",
   "nbconvert_exporter": "python",
   "pygments_lexer": "ipython3",
   "version": "3.8.12"
  }
 },
 "nbformat": 4,
 "nbformat_minor": 5
}
